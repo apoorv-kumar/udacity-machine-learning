{
 "cells": [
  {
   "cell_type": "code",
   "execution_count": 49,
   "metadata": {
    "collapsed": true
   },
   "outputs": [],
   "source": [
    "%matplotlib notebook\n",
    "import pprint\n",
    "import matplotlib.pyplot as plt\n",
    "import pandas as pd"
   ]
  },
  {
   "cell_type": "code",
   "execution_count": 5,
   "metadata": {
    "collapsed": false
   },
   "outputs": [
    {
     "name": "stderr",
     "output_type": "stream",
     "text": [
      "/home/apoorv/anaconda3/lib/python3.5/site-packages/IPython/core/interactiveshell.py:2885: FutureWarning: \n",
      "mpl_style had been deprecated and will be removed in a future version.\n",
      "Use `matplotlib.pyplot.style.use` instead.\n",
      "\n",
      "  exec(code_obj, self.user_global_ns, self.user_ns)\n"
     ]
    }
   ],
   "source": [
    "pd.set_option('display.mpl_style', 'default')\n",
    "plt.rcParams['figure.figsize'] = (15, 5)"
   ]
  },
  {
   "cell_type": "code",
   "execution_count": 27,
   "metadata": {
    "collapsed": false
   },
   "outputs": [
    {
     "data": {
      "text/html": [
       "<div>\n",
       "<table border=\"1\" class=\"dataframe\">\n",
       "  <thead>\n",
       "    <tr style=\"text-align: right;\">\n",
       "      <th></th>\n",
       "      <th>status</th>\n",
       "      <th>msg</th>\n",
       "      <th>spam_status</th>\n",
       "      <th>attr_cheap</th>\n",
       "      <th>attr_free</th>\n",
       "      <th>attr_offer</th>\n",
       "    </tr>\n",
       "  </thead>\n",
       "  <tbody>\n",
       "    <tr>\n",
       "      <th>0</th>\n",
       "      <td>ham</td>\n",
       "      <td>Go until jurong point, crazy.. Available only ...</td>\n",
       "      <td>False</td>\n",
       "      <td>False</td>\n",
       "      <td>False</td>\n",
       "      <td>False</td>\n",
       "    </tr>\n",
       "    <tr>\n",
       "      <th>1</th>\n",
       "      <td>ham</td>\n",
       "      <td>Ok lar... Joking wif u oni...</td>\n",
       "      <td>False</td>\n",
       "      <td>False</td>\n",
       "      <td>False</td>\n",
       "      <td>False</td>\n",
       "    </tr>\n",
       "    <tr>\n",
       "      <th>2</th>\n",
       "      <td>spam</td>\n",
       "      <td>Free entry in 2 a wkly comp to win FA Cup fina...</td>\n",
       "      <td>True</td>\n",
       "      <td>False</td>\n",
       "      <td>True</td>\n",
       "      <td>False</td>\n",
       "    </tr>\n",
       "  </tbody>\n",
       "</table>\n",
       "</div>"
      ],
      "text/plain": [
       "  status                                                msg spam_status  \\\n",
       "0    ham  Go until jurong point, crazy.. Available only ...       False   \n",
       "1    ham                      Ok lar... Joking wif u oni...       False   \n",
       "2   spam  Free entry in 2 a wkly comp to win FA Cup fina...        True   \n",
       "\n",
       "  attr_cheap attr_free attr_offer  \n",
       "0      False     False      False  \n",
       "1      False     False      False  \n",
       "2      False      True      False  "
      ]
     },
     "execution_count": 27,
     "metadata": {},
     "output_type": "execute_result"
    }
   ],
   "source": [
    "sms_df = pd.read_csv('resources/SMSSpamCollection', sep='\\t', header=None, names = ['status', 'msg'])\n",
    "# adding the presence of words as attributes \n",
    "# -> cheap, free, offer\n",
    "sms_df['spam_status'] = sms_df['status'].map(lambda x: x == 'spam')\n",
    "attribute_key_list = ['cheap', 'free', 'offer']\n",
    "for key in attribute_key_list:\n",
    "    sms_df['attr_' + key] = sms_df['msg'].map(lambda msg: key in msg.lower())\n",
    "sms_df[:3]"
   ]
  },
  {
   "cell_type": "code",
   "execution_count": 51,
   "metadata": {
    "collapsed": false
   },
   "outputs": [
    {
     "name": "stdout",
     "output_type": "stream",
     "text": [
      "cheap\n",
      "{'accuracy': 0.8650394831299354,\n",
      " 'false negatives': 0.13334529791816224,\n",
      " 'false positives': 0.001615218951902369}\n",
      "free\n",
      "{'accuracy': 0.8898061737257718,\n",
      " 'false negatives': 0.09834888729361091,\n",
      " 'false positives': 0.011844938980617373}\n",
      "offer\n",
      "{'accuracy': 0.8713208901651113,\n",
      " 'false negatives': 0.12724335965541997,\n",
      " 'false positives': 0.0014357501794687725}\n"
     ]
    }
   ],
   "source": [
    "# takes 2 columns and returns stats of how they match\n",
    "# first column is the expected column\n",
    "# false positives - ham marked as spam\n",
    "# false negatives - spam marked as ham\n",
    "def get_stats(dframe, columns):\n",
    "    df_equal = dframe[dframe[columns[0]] == dframe[columns[1]]]\n",
    "    df_false_positives = dframe[(dframe[columns[0]] == False) & (dframe[columns[1]] == True)]\n",
    "    df_false_negatives = dframe[(dframe[columns[0]] == True) & (dframe[columns[1]] == False)]\n",
    "    stats = {\n",
    "        \"accuracy\" : len(df_equal)/len(dframe),\n",
    "        \"false positives\" : len(df_false_positives)/len(dframe),\n",
    "        \"false negatives\" : len(df_false_negatives)/len(dframe)\n",
    "    }\n",
    "    return stats\n",
    "\n",
    "for key in attribute_key_list:\n",
    "    print(key)\n",
    "    pprint.pprint(get_stats(sms_df,(\"spam_status\", \"attr_\"+key)))\n"
   ]
  },
  {
   "cell_type": "code",
   "execution_count": null,
   "metadata": {
    "collapsed": true
   },
   "outputs": [],
   "source": []
  }
 ],
 "metadata": {
  "anaconda-cloud": {},
  "kernelspec": {
   "display_name": "Python [Root]",
   "language": "python",
   "name": "Python [Root]"
  },
  "language_info": {
   "codemirror_mode": {
    "name": "ipython",
    "version": 3
   },
   "file_extension": ".py",
   "mimetype": "text/x-python",
   "name": "python",
   "nbconvert_exporter": "python",
   "pygments_lexer": "ipython3",
   "version": "3.5.2"
  }
 },
 "nbformat": 4,
 "nbformat_minor": 0
}
