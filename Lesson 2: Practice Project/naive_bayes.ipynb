{
 "cells": [
  {
   "cell_type": "code",
   "execution_count": 74,
   "metadata": {
    "collapsed": true
   },
   "outputs": [],
   "source": [
    "%matplotlib notebook\n",
    "import pprint\n",
    "import matplotlib.pyplot as plt\n",
    "import pandas as pd"
   ]
  },
  {
   "cell_type": "code",
   "execution_count": 5,
   "metadata": {
    "collapsed": false
   },
   "outputs": [
    {
     "name": "stderr",
     "output_type": "stream",
     "text": [
      "/home/apoorv/anaconda3/lib/python3.5/site-packages/IPython/core/interactiveshell.py:2885: FutureWarning: \n",
      "mpl_style had been deprecated and will be removed in a future version.\n",
      "Use `matplotlib.pyplot.style.use` instead.\n",
      "\n",
      "  exec(code_obj, self.user_global_ns, self.user_ns)\n"
     ]
    }
   ],
   "source": [
    "pd.set_option('display.mpl_style', 'default')\n",
    "plt.rcParams['figure.figsize'] = (15, 5)"
   ]
  },
  {
   "cell_type": "code",
   "execution_count": 94,
   "metadata": {
    "collapsed": false
   },
   "outputs": [
    {
     "data": {
      "text/html": [
       "<div>\n",
       "<table border=\"1\" class=\"dataframe\">\n",
       "  <thead>\n",
       "    <tr style=\"text-align: right;\">\n",
       "      <th></th>\n",
       "      <th>status</th>\n",
       "      <th>msg</th>\n",
       "      <th>spam_status</th>\n",
       "      <th>attr_cheap</th>\n",
       "      <th>attr_free</th>\n",
       "      <th>attr_offer</th>\n",
       "      <th>attr_win</th>\n",
       "    </tr>\n",
       "  </thead>\n",
       "  <tbody>\n",
       "    <tr>\n",
       "      <th>0</th>\n",
       "      <td>ham</td>\n",
       "      <td>Go until jurong point, crazy.. Available only ...</td>\n",
       "      <td>False</td>\n",
       "      <td>False</td>\n",
       "      <td>False</td>\n",
       "      <td>False</td>\n",
       "      <td>False</td>\n",
       "    </tr>\n",
       "    <tr>\n",
       "      <th>1</th>\n",
       "      <td>ham</td>\n",
       "      <td>Ok lar... Joking wif u oni...</td>\n",
       "      <td>False</td>\n",
       "      <td>False</td>\n",
       "      <td>False</td>\n",
       "      <td>False</td>\n",
       "      <td>False</td>\n",
       "    </tr>\n",
       "    <tr>\n",
       "      <th>2</th>\n",
       "      <td>spam</td>\n",
       "      <td>Free entry in 2 a wkly comp to win FA Cup fina...</td>\n",
       "      <td>True</td>\n",
       "      <td>False</td>\n",
       "      <td>True</td>\n",
       "      <td>False</td>\n",
       "      <td>True</td>\n",
       "    </tr>\n",
       "  </tbody>\n",
       "</table>\n",
       "</div>"
      ],
      "text/plain": [
       "  status                                                msg spam_status  \\\n",
       "0    ham  Go until jurong point, crazy.. Available only ...       False   \n",
       "1    ham                      Ok lar... Joking wif u oni...       False   \n",
       "2   spam  Free entry in 2 a wkly comp to win FA Cup fina...        True   \n",
       "\n",
       "  attr_cheap attr_free attr_offer attr_win  \n",
       "0      False     False      False    False  \n",
       "1      False     False      False    False  \n",
       "2      False      True      False     True  "
      ]
     },
     "execution_count": 94,
     "metadata": {},
     "output_type": "execute_result"
    }
   ],
   "source": [
    "sms_df = pd.read_csv('resources/SMSSpamCollection', sep='\\t', header=None, names = ['status', 'msg'])\n",
    "# adding the presence of words as attributes \n",
    "# -> cheap, free, offer\n",
    "sms_df['spam_status'] = sms_df['status'].map(lambda x: x == 'spam')\n",
    "attribute_key_list = ['cheap', 'free', 'offer', 'win']\n",
    "for key in attribute_key_list:\n",
    "    sms_df['attr_' + key] = sms_df['msg'].map(lambda msg: key in msg.lower())\n",
    "sms_df[:3]"
   ]
  },
  {
   "cell_type": "code",
   "execution_count": 95,
   "metadata": {
    "collapsed": false
   },
   "outputs": [
    {
     "name": "stdout",
     "output_type": "stream",
     "text": [
      "cheap\n",
      "{'sensitivity': 0.00535475234270415, 'specificity': 0.9981347150259068}\n",
      "free\n",
      "{'sensitivity': 0.26639892904953144, 'specificity': 0.9863212435233161}\n",
      "offer\n",
      "{'sensitivity': 0.050870147255689425, 'specificity': 0.9983419689119171}\n",
      "win\n",
      "{'sensitivity': 0.13386880856760375, 'specificity': 0.9861139896373057}\n"
     ]
    }
   ],
   "source": [
    "# takes 2 columns and returns stats of how they match\n",
    "# first column is the expected column\n",
    "def get_stats(dframe, columns):\n",
    "    sensitive = dframe[(dframe[columns[0]] == True) & (dframe[columns[1]] == True)]\n",
    "    specific = dframe[(dframe[columns[0]] == False) & (dframe[columns[1]] == False)]\n",
    "    stats = {\n",
    "        \"sensitivity\" : len(sensitive)/len(dframe[dframe[columns[0]] == True]),\n",
    "        \"specificity\" : len(specific)/len(dframe[dframe[columns[0]] == False])\n",
    "    }\n",
    "    return stats\n",
    "\n",
    "for key in attribute_key_list:\n",
    "    print(key)\n",
    "    pprint.pprint(get_stats(sms_df,(\"spam_status\", \"attr_\"+key)))\n"
   ]
  },
  {
   "cell_type": "markdown",
   "metadata": {},
   "source": [
    "### Inspired by the udacity solution\n",
    "\n",
    "#### Bag of words approach"
   ]
  },
  {
   "cell_type": "code",
   "execution_count": 73,
   "metadata": {
    "collapsed": false
   },
   "outputs": [
    {
     "data": {
      "text/html": [
       "<div>\n",
       "<table border=\"1\" class=\"dataframe\">\n",
       "  <thead>\n",
       "    <tr style=\"text-align: right;\">\n",
       "      <th></th>\n",
       "      <th>08452810075over18</th>\n",
       "      <th>2005</th>\n",
       "      <th>21st</th>\n",
       "      <th>87121</th>\n",
       "      <th>amore</th>\n",
       "      <th>apply</th>\n",
       "      <th>available</th>\n",
       "      <th>buffet</th>\n",
       "      <th>bugis</th>\n",
       "      <th>cine</th>\n",
       "      <th>...</th>\n",
       "      <th>receive</th>\n",
       "      <th>std</th>\n",
       "      <th>text</th>\n",
       "      <th>tkts</th>\n",
       "      <th>txt</th>\n",
       "      <th>wat</th>\n",
       "      <th>wif</th>\n",
       "      <th>win</th>\n",
       "      <th>wkly</th>\n",
       "      <th>world</th>\n",
       "    </tr>\n",
       "  </thead>\n",
       "  <tbody>\n",
       "    <tr>\n",
       "      <th>0</th>\n",
       "      <td>0</td>\n",
       "      <td>0</td>\n",
       "      <td>0</td>\n",
       "      <td>0</td>\n",
       "      <td>1</td>\n",
       "      <td>0</td>\n",
       "      <td>1</td>\n",
       "      <td>1</td>\n",
       "      <td>1</td>\n",
       "      <td>1</td>\n",
       "      <td>...</td>\n",
       "      <td>0</td>\n",
       "      <td>0</td>\n",
       "      <td>0</td>\n",
       "      <td>0</td>\n",
       "      <td>0</td>\n",
       "      <td>1</td>\n",
       "      <td>0</td>\n",
       "      <td>0</td>\n",
       "      <td>0</td>\n",
       "      <td>1</td>\n",
       "    </tr>\n",
       "    <tr>\n",
       "      <th>1</th>\n",
       "      <td>0</td>\n",
       "      <td>0</td>\n",
       "      <td>0</td>\n",
       "      <td>0</td>\n",
       "      <td>0</td>\n",
       "      <td>0</td>\n",
       "      <td>0</td>\n",
       "      <td>0</td>\n",
       "      <td>0</td>\n",
       "      <td>0</td>\n",
       "      <td>...</td>\n",
       "      <td>0</td>\n",
       "      <td>0</td>\n",
       "      <td>0</td>\n",
       "      <td>0</td>\n",
       "      <td>0</td>\n",
       "      <td>0</td>\n",
       "      <td>1</td>\n",
       "      <td>0</td>\n",
       "      <td>0</td>\n",
       "      <td>0</td>\n",
       "    </tr>\n",
       "    <tr>\n",
       "      <th>2</th>\n",
       "      <td>1</td>\n",
       "      <td>1</td>\n",
       "      <td>1</td>\n",
       "      <td>1</td>\n",
       "      <td>0</td>\n",
       "      <td>1</td>\n",
       "      <td>0</td>\n",
       "      <td>0</td>\n",
       "      <td>0</td>\n",
       "      <td>0</td>\n",
       "      <td>...</td>\n",
       "      <td>1</td>\n",
       "      <td>1</td>\n",
       "      <td>1</td>\n",
       "      <td>1</td>\n",
       "      <td>1</td>\n",
       "      <td>0</td>\n",
       "      <td>0</td>\n",
       "      <td>1</td>\n",
       "      <td>1</td>\n",
       "      <td>0</td>\n",
       "    </tr>\n",
       "  </tbody>\n",
       "</table>\n",
       "<p>3 rows × 38 columns</p>\n",
       "</div>"
      ],
      "text/plain": [
       "   08452810075over18  2005  21st  87121  amore  apply  available  buffet  \\\n",
       "0                  0     0     0      0      1      0          1       1   \n",
       "1                  0     0     0      0      0      0          0       0   \n",
       "2                  1     1     1      1      0      1          0       0   \n",
       "\n",
       "   bugis  cine  ...    receive  std  text  tkts  txt  wat  wif  win  wkly  \\\n",
       "0      1     1  ...          0    0     0     0    0    1    0    0     0   \n",
       "1      0     0  ...          0    0     0     0    0    0    1    0     0   \n",
       "2      0     0  ...          1    1     1     1    1    0    0    1     1   \n",
       "\n",
       "   world  \n",
       "0      1  \n",
       "1      0  \n",
       "2      0  \n",
       "\n",
       "[3 rows x 38 columns]"
      ]
     },
     "execution_count": 73,
     "metadata": {},
     "output_type": "execute_result"
    }
   ],
   "source": [
    "from sklearn.feature_extraction.text import CountVectorizer, TfidfVectorizer\n",
    "\n",
    "#document -> word frequency matrix\n",
    "def get_freq_matrix(documents, vectorizer):\n",
    "    vectorized_msgs = vectorizer.fit_transform(documents)\n",
    "    frequency_matrix = pd.DataFrame(vectorized_msgs.toarray(),\n",
    "                                    columns = vectorizer.get_feature_names())\n",
    "    return frequency_matrix\n",
    "\n",
    "vectorizer = CountVectorizer(stop_words='english')\n",
    "sample_docs = sms_df[\"msg\"][:3]\n",
    "get_freq_matrix(sample_docs, vectorizer)"
   ]
  },
  {
   "cell_type": "markdown",
   "metadata": {},
   "source": [
    "#### TF-IDF"
   ]
  },
  {
   "cell_type": "code",
   "execution_count": 76,
   "metadata": {
    "collapsed": false
   },
   "outputs": [
    {
     "data": {
      "text/html": [
       "<div>\n",
       "<table border=\"1\" class=\"dataframe\">\n",
       "  <thead>\n",
       "    <tr style=\"text-align: right;\">\n",
       "      <th></th>\n",
       "      <th>08452810075over18</th>\n",
       "      <th>2005</th>\n",
       "      <th>21st</th>\n",
       "      <th>87121</th>\n",
       "      <th>amore</th>\n",
       "      <th>apply</th>\n",
       "      <th>available</th>\n",
       "      <th>buffet</th>\n",
       "      <th>bugis</th>\n",
       "      <th>cine</th>\n",
       "      <th>...</th>\n",
       "      <th>receive</th>\n",
       "      <th>std</th>\n",
       "      <th>text</th>\n",
       "      <th>tkts</th>\n",
       "      <th>txt</th>\n",
       "      <th>wat</th>\n",
       "      <th>wif</th>\n",
       "      <th>win</th>\n",
       "      <th>wkly</th>\n",
       "      <th>world</th>\n",
       "    </tr>\n",
       "  </thead>\n",
       "  <tbody>\n",
       "    <tr>\n",
       "      <th>0</th>\n",
       "      <td>0.000000</td>\n",
       "      <td>0.000000</td>\n",
       "      <td>0.000000</td>\n",
       "      <td>0.000000</td>\n",
       "      <td>0.27735</td>\n",
       "      <td>0.000000</td>\n",
       "      <td>0.27735</td>\n",
       "      <td>0.27735</td>\n",
       "      <td>0.27735</td>\n",
       "      <td>0.27735</td>\n",
       "      <td>...</td>\n",
       "      <td>0.000000</td>\n",
       "      <td>0.000000</td>\n",
       "      <td>0.000000</td>\n",
       "      <td>0.000000</td>\n",
       "      <td>0.000000</td>\n",
       "      <td>0.27735</td>\n",
       "      <td>0.000000</td>\n",
       "      <td>0.000000</td>\n",
       "      <td>0.000000</td>\n",
       "      <td>0.27735</td>\n",
       "    </tr>\n",
       "    <tr>\n",
       "      <th>1</th>\n",
       "      <td>0.000000</td>\n",
       "      <td>0.000000</td>\n",
       "      <td>0.000000</td>\n",
       "      <td>0.000000</td>\n",
       "      <td>0.00000</td>\n",
       "      <td>0.000000</td>\n",
       "      <td>0.00000</td>\n",
       "      <td>0.00000</td>\n",
       "      <td>0.00000</td>\n",
       "      <td>0.00000</td>\n",
       "      <td>...</td>\n",
       "      <td>0.000000</td>\n",
       "      <td>0.000000</td>\n",
       "      <td>0.000000</td>\n",
       "      <td>0.000000</td>\n",
       "      <td>0.000000</td>\n",
       "      <td>0.00000</td>\n",
       "      <td>0.447214</td>\n",
       "      <td>0.000000</td>\n",
       "      <td>0.000000</td>\n",
       "      <td>0.00000</td>\n",
       "    </tr>\n",
       "    <tr>\n",
       "      <th>2</th>\n",
       "      <td>0.196116</td>\n",
       "      <td>0.196116</td>\n",
       "      <td>0.196116</td>\n",
       "      <td>0.196116</td>\n",
       "      <td>0.00000</td>\n",
       "      <td>0.196116</td>\n",
       "      <td>0.00000</td>\n",
       "      <td>0.00000</td>\n",
       "      <td>0.00000</td>\n",
       "      <td>0.00000</td>\n",
       "      <td>...</td>\n",
       "      <td>0.196116</td>\n",
       "      <td>0.196116</td>\n",
       "      <td>0.196116</td>\n",
       "      <td>0.196116</td>\n",
       "      <td>0.196116</td>\n",
       "      <td>0.00000</td>\n",
       "      <td>0.000000</td>\n",
       "      <td>0.196116</td>\n",
       "      <td>0.196116</td>\n",
       "      <td>0.00000</td>\n",
       "    </tr>\n",
       "  </tbody>\n",
       "</table>\n",
       "<p>3 rows × 38 columns</p>\n",
       "</div>"
      ],
      "text/plain": [
       "   08452810075over18      2005      21st     87121    amore     apply  \\\n",
       "0           0.000000  0.000000  0.000000  0.000000  0.27735  0.000000   \n",
       "1           0.000000  0.000000  0.000000  0.000000  0.00000  0.000000   \n",
       "2           0.196116  0.196116  0.196116  0.196116  0.00000  0.196116   \n",
       "\n",
       "   available   buffet    bugis     cine   ...      receive       std  \\\n",
       "0    0.27735  0.27735  0.27735  0.27735   ...     0.000000  0.000000   \n",
       "1    0.00000  0.00000  0.00000  0.00000   ...     0.000000  0.000000   \n",
       "2    0.00000  0.00000  0.00000  0.00000   ...     0.196116  0.196116   \n",
       "\n",
       "       text      tkts       txt      wat       wif       win      wkly  \\\n",
       "0  0.000000  0.000000  0.000000  0.27735  0.000000  0.000000  0.000000   \n",
       "1  0.000000  0.000000  0.000000  0.00000  0.447214  0.000000  0.000000   \n",
       "2  0.196116  0.196116  0.196116  0.00000  0.000000  0.196116  0.196116   \n",
       "\n",
       "     world  \n",
       "0  0.27735  \n",
       "1  0.00000  \n",
       "2  0.00000  \n",
       "\n",
       "[3 rows x 38 columns]"
      ]
     },
     "execution_count": 76,
     "metadata": {},
     "output_type": "execute_result"
    }
   ],
   "source": [
    "ti_vectorizer = TfidfVectorizer(stop_words='english')\n",
    "get_freq_matrix(sample_docs, ti_vectorizer)"
   ]
  },
  {
   "cell_type": "markdown",
   "metadata": {
    "collapsed": true
   },
   "source": [
    "#### Udacity solution\n",
    "\n",
    "##### Split into training and testing sets"
   ]
  },
  {
   "cell_type": "code",
   "execution_count": 82,
   "metadata": {
    "collapsed": false
   },
   "outputs": [
    {
     "name": "stdout",
     "output_type": "stream",
     "text": [
      "Number of rows in the total set: 5572\n",
      "Number of rows in the training set: 4179\n",
      "Number of rows in the test set: 1393\n"
     ]
    }
   ],
   "source": [
    "from sklearn.cross_validation import train_test_split\n",
    "\n",
    "X_train, X_test, y_train, y_test = train_test_split(sms_df['msg'],\n",
    "                                                    sms_df['spam_status'],\n",
    "                                                    random_state=1)\n",
    "\n",
    "print('Number of rows in the total set: {}'.format(sms_df.shape[0]))\n",
    "print('Number of rows in the training set: {}'.format(X_train.shape[0]))\n",
    "print('Number of rows in the test set: {}'.format(X_test.shape[0]))"
   ]
  },
  {
   "cell_type": "markdown",
   "metadata": {},
   "source": [
    "##### Apply BoF"
   ]
  },
  {
   "cell_type": "code",
   "execution_count": null,
   "metadata": {
    "collapsed": true
   },
   "outputs": [],
   "source": []
  }
 ],
 "metadata": {
  "anaconda-cloud": {},
  "kernelspec": {
   "display_name": "Python [Root]",
   "language": "python",
   "name": "Python [Root]"
  },
  "language_info": {
   "codemirror_mode": {
    "name": "ipython",
    "version": 3
   },
   "file_extension": ".py",
   "mimetype": "text/x-python",
   "name": "python",
   "nbconvert_exporter": "python",
   "pygments_lexer": "ipython3",
   "version": "3.5.2"
  }
 },
 "nbformat": 4,
 "nbformat_minor": 0
}
